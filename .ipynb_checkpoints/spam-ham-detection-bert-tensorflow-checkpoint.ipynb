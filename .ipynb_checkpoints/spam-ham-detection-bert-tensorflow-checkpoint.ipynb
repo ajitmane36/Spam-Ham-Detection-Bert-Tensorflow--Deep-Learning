{
 "cells": [
  {
   "cell_type": "markdown",
   "id": "43d77a84-03e6-444c-ae8e-c6ec3fb29c61",
   "metadata": {},
   "source": [
    "# Spam Ham Detection Using BERT and Tensorflow"
   ]
  },
  {
   "cell_type": "raw",
   "id": "3f758b9b-dab7-4279-929a-489595f95945",
   "metadata": {},
   "source": []
  },
  {
   "cell_type": "markdown",
   "id": "a0124063-db8f-4910-a79b-bc86ed6b348b",
   "metadata": {},
   "source": [
    "### <u>Project Summary</u>"
   ]
  },
  {
   "cell_type": "raw",
   "id": "ddf71ae5-c10b-4ad5-9651-b5ccd899d8bc",
   "metadata": {},
   "source": []
  },
  {
   "cell_type": "markdown",
   "id": "37e9cdff-2369-4ff8-8ef2-2028018b55e8",
   "metadata": {},
   "source": [
    "### <u>GitHub Link</u>\n",
    "[Click Here](https://github.com/ajitmane36/spam-ham-detection-bert-tensorflow.git)"
   ]
  },
  {
   "cell_type": "raw",
   "id": "ad67d73d-1863-41c9-8456-abbce3d00a1a",
   "metadata": {},
   "source": []
  },
  {
   "cell_type": "markdown",
   "id": "faa6cc20-607f-4599-8f22-b0e6ee0c306d",
   "metadata": {},
   "source": [
    "### <u>Problem Statement</u>\n",
    "\n",
    "- The data is related to the classification of emails into spam or ham (non-spam). The goal of this project is to develop a model using BERT and TensorFlow to predict whether an email is spam or not based on its content. By fine-tuning a pre-trained BERT model, the objective is to enhance the accuracy and efficiency of email classification, ensuring that legitimate emails are delivered to the inbox while spam is effectively filtered out."
   ]
  },
  {
   "cell_type": "markdown",
   "id": "15d4c68e-068a-42d1-9392-2532e4ffb3be",
   "metadata": {},
   "source": [
    "### <u>Data Description</u>\n",
    "\n",
    "- **Message**: Description of the email content (text).\n",
    "- **Category**: Indicates whether the email is spam (1) or not (0)."
   ]
  },
  {
   "cell_type": "code",
   "execution_count": 118,
   "id": "4c76b328-bd1c-4f62-8797-cce75b73cd44",
   "metadata": {},
   "outputs": [],
   "source": [
    "# Importing necessary libraries\n",
    "import numpy as np\n",
    "import pandas as pd\n",
    "import matplotlib.pyplot as plt\n",
    "%matplotlib inline\n",
    "import seaborn as sns\n",
    "\n",
    "# filter warnings\n",
    "import warnings\n",
    "warnings.filterwarnings('ignore')"
   ]
  },
  {
   "cell_type": "code",
   "execution_count": 156,
   "id": "cc56a225-5626-46a6-8291-da92f03ce470",
   "metadata": {},
   "outputs": [
    {
     "data": {
      "text/html": [
       "<div>\n",
       "<style scoped>\n",
       "    .dataframe tbody tr th:only-of-type {\n",
       "        vertical-align: middle;\n",
       "    }\n",
       "\n",
       "    .dataframe tbody tr th {\n",
       "        vertical-align: top;\n",
       "    }\n",
       "\n",
       "    .dataframe thead th {\n",
       "        text-align: right;\n",
       "    }\n",
       "</style>\n",
       "<table border=\"1\" class=\"dataframe\">\n",
       "  <thead>\n",
       "    <tr style=\"text-align: right;\">\n",
       "      <th></th>\n",
       "      <th>Category</th>\n",
       "      <th>Message</th>\n",
       "    </tr>\n",
       "  </thead>\n",
       "  <tbody>\n",
       "    <tr>\n",
       "      <th>0</th>\n",
       "      <td>ham</td>\n",
       "      <td>Go until jurong point, crazy.. Available only ...</td>\n",
       "    </tr>\n",
       "    <tr>\n",
       "      <th>1</th>\n",
       "      <td>ham</td>\n",
       "      <td>Ok lar... Joking wif u oni...</td>\n",
       "    </tr>\n",
       "    <tr>\n",
       "      <th>2</th>\n",
       "      <td>spam</td>\n",
       "      <td>Free entry in 2 a wkly comp to win FA Cup fina...</td>\n",
       "    </tr>\n",
       "    <tr>\n",
       "      <th>3</th>\n",
       "      <td>ham</td>\n",
       "      <td>U dun say so early hor... U c already then say...</td>\n",
       "    </tr>\n",
       "    <tr>\n",
       "      <th>4</th>\n",
       "      <td>ham</td>\n",
       "      <td>Nah I don't think he goes to usf, he lives aro...</td>\n",
       "    </tr>\n",
       "    <tr>\n",
       "      <th>...</th>\n",
       "      <td>...</td>\n",
       "      <td>...</td>\n",
       "    </tr>\n",
       "    <tr>\n",
       "      <th>5567</th>\n",
       "      <td>spam</td>\n",
       "      <td>This is the 2nd time we have tried 2 contact u...</td>\n",
       "    </tr>\n",
       "    <tr>\n",
       "      <th>5568</th>\n",
       "      <td>ham</td>\n",
       "      <td>Will ü b going to esplanade fr home?</td>\n",
       "    </tr>\n",
       "    <tr>\n",
       "      <th>5569</th>\n",
       "      <td>ham</td>\n",
       "      <td>Pity, * was in mood for that. So...any other s...</td>\n",
       "    </tr>\n",
       "    <tr>\n",
       "      <th>5570</th>\n",
       "      <td>ham</td>\n",
       "      <td>The guy did some bitching but I acted like i'd...</td>\n",
       "    </tr>\n",
       "    <tr>\n",
       "      <th>5571</th>\n",
       "      <td>ham</td>\n",
       "      <td>Rofl. Its true to its name</td>\n",
       "    </tr>\n",
       "  </tbody>\n",
       "</table>\n",
       "<p>5572 rows × 2 columns</p>\n",
       "</div>"
      ],
      "text/plain": [
       "     Category                                            Message\n",
       "0         ham  Go until jurong point, crazy.. Available only ...\n",
       "1         ham                      Ok lar... Joking wif u oni...\n",
       "2        spam  Free entry in 2 a wkly comp to win FA Cup fina...\n",
       "3         ham  U dun say so early hor... U c already then say...\n",
       "4         ham  Nah I don't think he goes to usf, he lives aro...\n",
       "...       ...                                                ...\n",
       "5567     spam  This is the 2nd time we have tried 2 contact u...\n",
       "5568      ham               Will ü b going to esplanade fr home?\n",
       "5569      ham  Pity, * was in mood for that. So...any other s...\n",
       "5570      ham  The guy did some bitching but I acted like i'd...\n",
       "5571      ham                         Rofl. Its true to its name\n",
       "\n",
       "[5572 rows x 2 columns]"
      ]
     },
     "execution_count": 156,
     "metadata": {},
     "output_type": "execute_result"
    }
   ],
   "source": [
    "# Dataset Loading\n",
    "df=pd.read_csv(r\"C:\\Users\\ajitm\\Downloads\\DS Projects\\Deep Larning Projects\\1. Text Classification Using BERT & Tensorflow\\spam_emails_data.csv\")\n",
    "df"
   ]
  },
  {
   "cell_type": "code",
   "execution_count": 158,
   "id": "dd050d32-6a75-466c-b1eb-c0acd0423039",
   "metadata": {},
   "outputs": [
    {
     "data": {
      "text/html": [
       "<div>\n",
       "<style scoped>\n",
       "    .dataframe tbody tr th:only-of-type {\n",
       "        vertical-align: middle;\n",
       "    }\n",
       "\n",
       "    .dataframe tbody tr th {\n",
       "        vertical-align: top;\n",
       "    }\n",
       "\n",
       "    .dataframe thead th {\n",
       "        text-align: right;\n",
       "    }\n",
       "</style>\n",
       "<table border=\"1\" class=\"dataframe\">\n",
       "  <thead>\n",
       "    <tr style=\"text-align: right;\">\n",
       "      <th></th>\n",
       "      <th>Category</th>\n",
       "      <th>Message</th>\n",
       "    </tr>\n",
       "  </thead>\n",
       "  <tbody>\n",
       "    <tr>\n",
       "      <th>0</th>\n",
       "      <td>ham</td>\n",
       "      <td>Go until jurong point, crazy.. Available only ...</td>\n",
       "    </tr>\n",
       "    <tr>\n",
       "      <th>1</th>\n",
       "      <td>ham</td>\n",
       "      <td>Ok lar... Joking wif u oni...</td>\n",
       "    </tr>\n",
       "    <tr>\n",
       "      <th>2</th>\n",
       "      <td>spam</td>\n",
       "      <td>Free entry in 2 a wkly comp to win FA Cup fina...</td>\n",
       "    </tr>\n",
       "    <tr>\n",
       "      <th>3</th>\n",
       "      <td>ham</td>\n",
       "      <td>U dun say so early hor... U c already then say...</td>\n",
       "    </tr>\n",
       "    <tr>\n",
       "      <th>4</th>\n",
       "      <td>ham</td>\n",
       "      <td>Nah I don't think he goes to usf, he lives aro...</td>\n",
       "    </tr>\n",
       "  </tbody>\n",
       "</table>\n",
       "</div>"
      ],
      "text/plain": [
       "  Category                                            Message\n",
       "0      ham  Go until jurong point, crazy.. Available only ...\n",
       "1      ham                      Ok lar... Joking wif u oni...\n",
       "2     spam  Free entry in 2 a wkly comp to win FA Cup fina...\n",
       "3      ham  U dun say so early hor... U c already then say...\n",
       "4      ham  Nah I don't think he goes to usf, he lives aro..."
      ]
     },
     "execution_count": 158,
     "metadata": {},
     "output_type": "execute_result"
    }
   ],
   "source": [
    "# Fist five observations\n",
    "df.head()"
   ]
  },
  {
   "cell_type": "code",
   "execution_count": 160,
   "id": "3326d4cf-66bd-4eb4-a9e1-477595844a3b",
   "metadata": {},
   "outputs": [
    {
     "data": {
      "text/html": [
       "<div>\n",
       "<style scoped>\n",
       "    .dataframe tbody tr th:only-of-type {\n",
       "        vertical-align: middle;\n",
       "    }\n",
       "\n",
       "    .dataframe tbody tr th {\n",
       "        vertical-align: top;\n",
       "    }\n",
       "\n",
       "    .dataframe thead th {\n",
       "        text-align: right;\n",
       "    }\n",
       "</style>\n",
       "<table border=\"1\" class=\"dataframe\">\n",
       "  <thead>\n",
       "    <tr style=\"text-align: right;\">\n",
       "      <th></th>\n",
       "      <th>Category</th>\n",
       "      <th>Message</th>\n",
       "    </tr>\n",
       "  </thead>\n",
       "  <tbody>\n",
       "    <tr>\n",
       "      <th>5567</th>\n",
       "      <td>spam</td>\n",
       "      <td>This is the 2nd time we have tried 2 contact u...</td>\n",
       "    </tr>\n",
       "    <tr>\n",
       "      <th>5568</th>\n",
       "      <td>ham</td>\n",
       "      <td>Will ü b going to esplanade fr home?</td>\n",
       "    </tr>\n",
       "    <tr>\n",
       "      <th>5569</th>\n",
       "      <td>ham</td>\n",
       "      <td>Pity, * was in mood for that. So...any other s...</td>\n",
       "    </tr>\n",
       "    <tr>\n",
       "      <th>5570</th>\n",
       "      <td>ham</td>\n",
       "      <td>The guy did some bitching but I acted like i'd...</td>\n",
       "    </tr>\n",
       "    <tr>\n",
       "      <th>5571</th>\n",
       "      <td>ham</td>\n",
       "      <td>Rofl. Its true to its name</td>\n",
       "    </tr>\n",
       "  </tbody>\n",
       "</table>\n",
       "</div>"
      ],
      "text/plain": [
       "     Category                                            Message\n",
       "5567     spam  This is the 2nd time we have tried 2 contact u...\n",
       "5568      ham               Will ü b going to esplanade fr home?\n",
       "5569      ham  Pity, * was in mood for that. So...any other s...\n",
       "5570      ham  The guy did some bitching but I acted like i'd...\n",
       "5571      ham                         Rofl. Its true to its name"
      ]
     },
     "execution_count": 160,
     "metadata": {},
     "output_type": "execute_result"
    }
   ],
   "source": [
    "# Last five observations\n",
    "df.tail()"
   ]
  },
  {
   "cell_type": "markdown",
   "id": "904d6f01-66ed-4db9-ad02-385d7e78adf9",
   "metadata": {},
   "source": [
    "#### <u>Data Inispection</u>"
   ]
  },
  {
   "cell_type": "code",
   "execution_count": 163,
   "id": "d5f26671-51b5-48e1-b1ab-46b5f6f5bcca",
   "metadata": {},
   "outputs": [
    {
     "name": "stdout",
     "output_type": "stream",
     "text": [
      "Dataset has 5572 observations and 2 columns.\n"
     ]
    }
   ],
   "source": [
    "# Shape of dataset\n",
    "df.shape\n",
    "print(f'Dataset has {df.shape[0]} observations and {df.shape[1]} columns.')"
   ]
  },
  {
   "cell_type": "code",
   "execution_count": 165,
   "id": "61f9ad0c-2dd5-4876-bf9d-312fad23023b",
   "metadata": {},
   "outputs": [
    {
     "name": "stdout",
     "output_type": "stream",
     "text": [
      "['Category', 'Message']\n"
     ]
    }
   ],
   "source": [
    "# Dataset columns\n",
    "print(df.columns.tolist())"
   ]
  },
  {
   "cell_type": "code",
   "execution_count": 167,
   "id": "64fff068-7dfe-4986-815e-ce152790c5a6",
   "metadata": {},
   "outputs": [
    {
     "name": "stdout",
     "output_type": "stream",
     "text": [
      "<class 'pandas.core.frame.DataFrame'>\n",
      "RangeIndex: 5572 entries, 0 to 5571\n",
      "Data columns (total 2 columns):\n",
      " #   Column    Non-Null Count  Dtype \n",
      "---  ------    --------------  ----- \n",
      " 0   Category  5572 non-null   object\n",
      " 1   Message   5572 non-null   object\n",
      "dtypes: object(2)\n",
      "memory usage: 87.2+ KB\n"
     ]
    }
   ],
   "source": [
    "# Basic information of dataset\n",
    "df.info()"
   ]
  },
  {
   "cell_type": "code",
   "execution_count": 169,
   "id": "651b008e-65d7-42cf-b2d9-09e4f25ac81e",
   "metadata": {},
   "outputs": [
    {
     "data": {
      "text/html": [
       "<div>\n",
       "<style scoped>\n",
       "    .dataframe tbody tr th:only-of-type {\n",
       "        vertical-align: middle;\n",
       "    }\n",
       "\n",
       "    .dataframe tbody tr th {\n",
       "        vertical-align: top;\n",
       "    }\n",
       "\n",
       "    .dataframe thead tr th {\n",
       "        text-align: left;\n",
       "    }\n",
       "\n",
       "    .dataframe thead tr:last-of-type th {\n",
       "        text-align: right;\n",
       "    }\n",
       "</style>\n",
       "<table border=\"1\" class=\"dataframe\">\n",
       "  <thead>\n",
       "    <tr>\n",
       "      <th></th>\n",
       "      <th colspan=\"4\" halign=\"left\">Message</th>\n",
       "    </tr>\n",
       "    <tr>\n",
       "      <th></th>\n",
       "      <th>count</th>\n",
       "      <th>unique</th>\n",
       "      <th>top</th>\n",
       "      <th>freq</th>\n",
       "    </tr>\n",
       "    <tr>\n",
       "      <th>Category</th>\n",
       "      <th></th>\n",
       "      <th></th>\n",
       "      <th></th>\n",
       "      <th></th>\n",
       "    </tr>\n",
       "  </thead>\n",
       "  <tbody>\n",
       "    <tr>\n",
       "      <th>ham</th>\n",
       "      <td>4825</td>\n",
       "      <td>4516</td>\n",
       "      <td>Sorry, I'll call later</td>\n",
       "      <td>30</td>\n",
       "    </tr>\n",
       "    <tr>\n",
       "      <th>spam</th>\n",
       "      <td>747</td>\n",
       "      <td>641</td>\n",
       "      <td>Please call our customer service representativ...</td>\n",
       "      <td>4</td>\n",
       "    </tr>\n",
       "  </tbody>\n",
       "</table>\n",
       "</div>"
      ],
      "text/plain": [
       "         Message                                                            \\\n",
       "           count unique                                                top   \n",
       "Category                                                                     \n",
       "ham         4825   4516                             Sorry, I'll call later   \n",
       "spam         747    641  Please call our customer service representativ...   \n",
       "\n",
       "               \n",
       "         freq  \n",
       "Category       \n",
       "ham        30  \n",
       "spam        4  "
      ]
     },
     "execution_count": 169,
     "metadata": {},
     "output_type": "execute_result"
    }
   ],
   "source": [
    "# Basic description of dataset\n",
    "df.groupby('Category').describe()"
   ]
  },
  {
   "cell_type": "markdown",
   "id": "7c09b38f-796e-4b6e-8941-f69603917706",
   "metadata": {},
   "source": [
    "- Dataset having 4825 Ham observations and 747 spam observations.\n",
    "- Class imbalance seen."
   ]
  },
  {
   "cell_type": "markdown",
   "id": "836b06c1-5cbc-4258-b463-a25978b50a46",
   "metadata": {},
   "source": [
    "#### <u>Data Wrangling</u>"
   ]
  },
  {
   "cell_type": "code",
   "execution_count": 172,
   "id": "21e46691-ad67-4dbe-857c-497f7719cf0a",
   "metadata": {},
   "outputs": [
    {
     "name": "stdout",
     "output_type": "stream",
     "text": [
      "    columns  number_of_duplicates\n",
      "0  Category                   415\n",
      "1   Message                   415\n",
      "Dataset having 415 duplicates values.\n"
     ]
    }
   ],
   "source": [
    "# Cehcking  duplicates value in each feature\n",
    "duplicates_df=pd.DataFrame({'columns':df.columns, 'number_of_duplicates': df.duplicated().sum()}).sort_values(by='number_of_duplicates', ascending=False)\n",
    "print(duplicates_df)\n",
    "print(f'Dataset having {df.duplicated().sum()} duplicates values.')"
   ]
  },
  {
   "cell_type": "code",
   "execution_count": 174,
   "id": "00833df7-b353-47ce-b761-e2a7c3695c92",
   "metadata": {},
   "outputs": [
    {
     "data": {
      "text/plain": [
       "(5157, 2)"
      ]
     },
     "execution_count": 174,
     "metadata": {},
     "output_type": "execute_result"
    }
   ],
   "source": [
    "# Removing duplicates\n",
    "df.drop_duplicates(inplace=True)\n",
    "df.shape"
   ]
  },
  {
   "cell_type": "code",
   "execution_count": 176,
   "id": "2e265195-9c0e-4f04-8ae5-ab58c159c71f",
   "metadata": {},
   "outputs": [
    {
     "name": "stdout",
     "output_type": "stream",
     "text": [
      "           columns  num_of_nulls\n",
      "Category  Category             0\n",
      "Message    Message             0\n",
      "Dataset have Category    0\n",
      "Message     0\n",
      "dtype: int64 null values.\n"
     ]
    }
   ],
   "source": [
    "# Checking missing values\n",
    "null_df=pd.DataFrame({'columns': df.columns, 'num_of_nulls': df.isna().sum()})\n",
    "print(null_df )\n",
    "print(f'Dataset have {df.isna().sum()} null values.')"
   ]
  },
  {
   "cell_type": "markdown",
   "id": "807666e8-c4d6-423a-820a-981d07bcf809",
   "metadata": {},
   "source": [
    "#### <u>Exploratory Data Analysis</u>"
   ]
  },
  {
   "cell_type": "code",
   "execution_count": 261,
   "id": "02fc7acd-0dd1-4c57-8c4a-641c054e8198",
   "metadata": {},
   "outputs": [
    {
     "name": "stdout",
     "output_type": "stream",
     "text": [
      "Smallest email\n",
      "____________________________________________________________________________________________________\n",
      "#ERROR!\n",
      "Length: 7\n",
      "====================================================================================================\n",
      "Largest email\n",
      "____________________________________________________________________________________________________\n",
      "… we r stayin here an extra week, back next wed. How did we do in the rugby this weekend? Hi to and and , c u soon \"\n",
      "Length: 116\n"
     ]
    }
   ],
   "source": [
    "# Min and Max length of email\n",
    "print(\"Smallest email\")\n",
    "print('__'*50)\n",
    "print(df.Message.min())\n",
    "print(f'Length: {len(df.Message.min())}')\n",
    "print('=='*50)\n",
    "print(\"Largest email\")\n",
    "print('__'*50)\n",
    "print(df.Message.max())\n",
    "print(f'Length: {len(df.Message.max())}')"
   ]
  },
  {
   "cell_type": "code",
   "execution_count": 316,
   "id": "a53025be-70d9-4f49-a942-fa5258aa87ff",
   "metadata": {},
   "outputs": [],
   "source": [
    "# Defining a function to Notate the percent count of each value on the bars\n",
    "def annot_percent(axes):\n",
    "    '''Takes axes as input and labels the percent count of each bar in a countplot'''\n",
    "    for p in plot.patches:\n",
    "        total = sum(p.get_height() for p in plot.patches)/100\n",
    "        percent = round((p.get_height()/total),2)\n",
    "        x = p.get_x() + p.get_width()/2\n",
    "        y = p.get_height()\n",
    "        plot.annotate(f'{percent}%', (x, y), ha='center', va='bottom')"
   ]
  },
  {
   "cell_type": "code",
   "execution_count": 275,
   "id": "fef0e9bd-a7da-404e-8e3b-dd0ab31032a4",
   "metadata": {},
   "outputs": [
    {
     "data": {
      "image/png": "[encoded data removed]",
      "text/plain": [
       "<Figure size 700x500 with 1 Axes>"
      ]
     },
     "metadata": {},
     "output_type": "display_data"
    }
   ],
   "source": [
    "# Bar plot for diffrent categories of email \n",
    "plt.figure(figsize=(7,5))\n",
    "plot=plt.subplot(111)\n",
    "ax=sns.countplot(x=df.Category, hue=df.Category)\n",
    "ax.set_title('Countplot for different emails categories')\n",
    "ax.legend('Category', title='Emails Categories')\n",
    "annot_percent(plot)\n",
    "plt.tight_layout()\n",
    "plt.show()"
   ]
  },
  {
   "cell_type": "markdown",
   "id": "5fd7c082-7465-4912-be62-8e53c612c4fb",
   "metadata": {},
   "source": [
    "- Dataset have 12.43% of spam and 87.57% ham observations.\n",
    "- Class imbalnce seen."
   ]
  },
  {
   "cell_type": "code",
   "execution_count": 281,
   "id": "5d67cf7c-e586-4cb5-9002-fb13b4132297",
   "metadata": {},
   "outputs": [
    {
     "data": {
      "text/html": [
       "<div>\n",
       "<style scoped>\n",
       "    .dataframe tbody tr th:only-of-type {\n",
       "        vertical-align: middle;\n",
       "    }\n",
       "\n",
       "    .dataframe tbody tr th {\n",
       "        vertical-align: top;\n",
       "    }\n",
       "\n",
       "    .dataframe thead th {\n",
       "        text-align: right;\n",
       "    }\n",
       "</style>\n",
       "<table border=\"1\" class=\"dataframe\">\n",
       "  <thead>\n",
       "    <tr style=\"text-align: right;\">\n",
       "      <th></th>\n",
       "      <th>Category</th>\n",
       "      <th>Message</th>\n",
       "      <th>length</th>\n",
       "    </tr>\n",
       "  </thead>\n",
       "  <tbody>\n",
       "    <tr>\n",
       "      <th>0</th>\n",
       "      <td>ham</td>\n",
       "      <td>Go until jurong point, crazy.. Available only ...</td>\n",
       "      <td>111</td>\n",
       "    </tr>\n",
       "    <tr>\n",
       "      <th>1</th>\n",
       "      <td>ham</td>\n",
       "      <td>Ok lar... Joking wif u oni...</td>\n",
       "      <td>29</td>\n",
       "    </tr>\n",
       "    <tr>\n",
       "      <th>2</th>\n",
       "      <td>spam</td>\n",
       "      <td>Free entry in 2 a wkly comp to win FA Cup fina...</td>\n",
       "      <td>155</td>\n",
       "    </tr>\n",
       "    <tr>\n",
       "      <th>3</th>\n",
       "      <td>ham</td>\n",
       "      <td>U dun say so early hor... U c already then say...</td>\n",
       "      <td>49</td>\n",
       "    </tr>\n",
       "    <tr>\n",
       "      <th>4</th>\n",
       "      <td>ham</td>\n",
       "      <td>Nah I don't think he goes to usf, he lives aro...</td>\n",
       "      <td>61</td>\n",
       "    </tr>\n",
       "  </tbody>\n",
       "</table>\n",
       "</div>"
      ],
      "text/plain": [
       "  Category                                            Message  length\n",
       "0      ham  Go until jurong point, crazy.. Available only ...     111\n",
       "1      ham                      Ok lar... Joking wif u oni...      29\n",
       "2     spam  Free entry in 2 a wkly comp to win FA Cup fina...     155\n",
       "3      ham  U dun say so early hor... U c already then say...      49\n",
       "4      ham  Nah I don't think he goes to usf, he lives aro...      61"
      ]
     },
     "execution_count": 281,
     "metadata": {},
     "output_type": "execute_result"
    }
   ],
   "source": [
    "# Length of each emial\n",
    "df['length']=df['Message'].apply(lambda x:len(x))\n",
    "df.head()"
   ]
  },
  {
   "cell_type": "code",
   "execution_count": 311,
   "id": "5a5d4e60-161d-4e54-a478-8eb2571170f9",
   "metadata": {},
   "outputs": [
    {
     "data": {
      "image/png": "[encoded data removed]",
      "text/plain": [
       "<Figure size 700x500 with 1 Axes>"
      ]
     },
     "metadata": {},
     "output_type": "display_data"
    }
   ],
   "source": [
    "# Plot histogram for length of emails\n",
    "plt.figure(figsize=(7,5))\n",
    "ax=sns.histplot(x=df.length, hue=df.Category)\n",
    "ax.set_title('Histogram for length of emails')\n",
    "ax.axvline(df.length.mean(), color='r', linestyle='--')\n",
    "ax.text(df.length.mean(), ax.get_ylim()[1]*0.9, f'Mean Length: {df.length.mean():.2f}', \n",
    "        color='red', ha='left', va='top', fontsize=12)\n",
    "plt.tight_layout()\n",
    "plt.show()"
   ]
  },
  {
   "cell_type": "markdown",
   "id": "2fb74227-cd2a-4c38-b772-759a960ffd9c",
   "metadata": {},
   "source": [
    "- The average email length seen is 79.\n",
    "- The majority of emails are shorter than 200 characters."
   ]
  },
  {
   "cell_type": "code",
   "execution_count": null,
   "id": "9da3ae92-e521-4378-8d43-bf796e9e4500",
   "metadata": {},
   "outputs": [],
   "source": []
  }
 ],
 "metadata": {
  "kernelspec": {
   "display_name": "Python 3 (ipykernel)",
   "language": "python",
   "name": "python3"
  },
  "language_info": {
   "codemirror_mode": {
    "name": "ipython",
    "version": 3
   },
   "file_extension": ".py",
   "mimetype": "text/x-python",
   "name": "python",
   "nbconvert_exporter": "python",
   "pygments_lexer": "ipython3",
   "version": "3.11.7"
  }
 },
 "nbformat": 4,
 "nbformat_minor": 5
}
